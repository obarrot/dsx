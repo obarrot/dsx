{
    "nbformat_minor": 1, 
    "cells": [
        {
            "source": "# Partie 2 - Machine Learning\nEntrainement d'un mod\u00e8le XGBoost  dans <a href=\"http://datascience.ibm.com\">IBM Watson Studio</a> et publication du mod\u00e8le entrain\u00e9 dans <a href=\"https://www.ibm.com/cloud/machine-learning\">Watson ML</a>\n\nCet exemple est bas\u00e9 sur le challenge Kaggle AdTracking Fraud detection disponible <a href=\"https://www.kaggle.com/c/talkingdata-adtracking-fraud-detection\">ici</a>\n<br> Il s'agit de pr\u00e9dire la probabilit\u00e9 de conversion (colonne is_attributed) \u00e0 partir d'un historique de clicks web (adresse IP, device, os, canal, type d'app, timestamp...)\n\nVoir \u00e9galement: \n<ul>\n    <li> <a href=\"https://github.com/obarrot/dsx/blob/master/AdTracking%20Data%20Exploration.ipynb\">Partie 1</a> - Notebook d'exploration des donn\u00e9es\n    <li> Partie 3 - Client web Py Flask qui exploite le mod\u00e8le d\u00e9ploy\u00e9\n    <li> Autres exemples sur <a href=\"https://github.com/obarrot/dsx\">GitHub</a>\n</ul>\n<img src=\"http://biblioteca.uoc.edu/sites/default/files/IBM_Data%20Science.png\">", 
            "cell_type": "markdown", 
            "metadata": {}
        }, 
        {
            "source": "# 1. Initialisation et lecture des donn\u00e9es\n### 1.1 Installation et import des libraries\nOn ins\u00e8re automatiquement les donn\u00e9es d'authentification et les refs vers les fichiers du Cloud Object Storage via click sur Files > \"insert to code\"", 
            "cell_type": "markdown", 
            "metadata": {}
        }, 
        {
            "execution_count": 1, 
            "cell_type": "code", 
            "metadata": {}, 
            "outputs": [
                {
                    "output_type": "stream", 
                    "name": "stdout", 
                    "text": "Collecting graphviz\n  Downloading https://files.pythonhosted.org/packages/84/44/21a7fdd50841aaaef224b943f7d10df87e476e181bb926ccf859bcb53d48/graphviz-0.8.3-py2.py3-none-any.whl\nInstalling collected packages: graphviz\nSuccessfully installed graphviz-0.8.3\n"
                }
            ], 
            "source": "!pip install graphviz"
        }, 
        {
            "execution_count": 2, 
            "cell_type": "code", 
            "metadata": {}, 
            "outputs": [
                {
                    "output_type": "stream", 
                    "name": "stdout", 
                    "text": "Requirement not upgraded as not directly required: xgboost==0.6a2 in /opt/conda/envs/DSX-Python35/lib/python3.5/site-packages\r\nRequirement not upgraded as not directly required: numpy in /opt/conda/envs/DSX-Python35/lib/python3.5/site-packages (from xgboost==0.6a2)\r\nRequirement not upgraded as not directly required: scikit-learn in /opt/conda/envs/DSX-Python35/lib/python3.5/site-packages (from xgboost==0.6a2)\r\nRequirement not upgraded as not directly required: scipy in /opt/conda/envs/DSX-Python35/lib/python3.5/site-packages (from xgboost==0.6a2)\r\n"
                }
            ], 
            "source": "#!pip install xgboost --upgrade\n!pip install xgboost==0.6a2"
        }, 
        {
            "execution_count": 3, 
            "cell_type": "code", 
            "metadata": {}, 
            "outputs": [
                {
                    "output_type": "stream", 
                    "name": "stderr", 
                    "text": "/opt/conda/envs/DSX-Python35/lib/python3.5/site-packages/sklearn/cross_validation.py:41: DeprecationWarning: This module was deprecated in version 0.18 in favor of the model_selection module into which all the refactored classes and functions are moved. Also note that the interface of the new CV iterators are different from that of this module. This module will be removed in 0.20.\n  \"This module will be removed in 0.20.\", DeprecationWarning)\n"
                }
            ], 
            "source": "import gc\nimport time\nimport numpy as np\nimport pandas as pd\nfrom sklearn.cross_validation import train_test_split\nimport xgboost as xgb\nfrom xgboost import plot_importance\nimport matplotlib.pyplot as plt"
        }, 
        {
            "execution_count": 4, 
            "cell_type": "code", 
            "metadata": {}, 
            "outputs": [], 
            "source": "# The code was removed by DSX for sharing."
        }, 
        {
            "source": "### 1.2. Lecture et formatage du fichier\nFichier d'entrainement  = train_sample.csv, 100000 lignes", 
            "cell_type": "markdown", 
            "metadata": {}
        }, 
        {
            "execution_count": 5, 
            "cell_type": "code", 
            "metadata": {}, 
            "outputs": [], 
            "source": "train_columns = ['ip', 'app', 'device', 'os', 'channel', 'click_time', 'is_attributed']\ntest_columns  = ['ip', 'app', 'device', 'os', 'channel', 'click_time', 'click_id']\ndtypes = {\n        'ip'            : 'uint32',\n        'app'           : 'uint16',\n        'device'        : 'uint16',\n        'os'            : 'uint16',\n        'channel'       : 'uint16',\n        'is_attributed' : 'uint8',\n        'click_id'      : 'uint32'\n        }"
        }, 
        {
            "execution_count": 6, 
            "cell_type": "code", 
            "metadata": {}, 
            "outputs": [], 
            "source": "# Upload your train_sample.csv file and use Watson Studio's import to code feature to read it for there \n    \ntrain = pd.read_csv(body, usecols=train_columns, dtype=dtypes)\n#train.info()"
        }, 
        {
            "source": "# 2. 1\u00e8re analyse des donn\u00e9es brutes", 
            "cell_type": "markdown", 
            "metadata": {}
        }, 
        {
            "execution_count": 7, 
            "cell_type": "code", 
            "metadata": {}, 
            "outputs": [
                {
                    "execution_count": 7, 
                    "metadata": {}, 
                    "data": {
                        "text/html": "<div>\n<style scoped>\n    .dataframe tbody tr th:only-of-type {\n        vertical-align: middle;\n    }\n\n    .dataframe tbody tr th {\n        vertical-align: top;\n    }\n\n    .dataframe thead th {\n        text-align: right;\n    }\n</style>\n<table border=\"1\" class=\"dataframe\">\n  <thead>\n    <tr style=\"text-align: right;\">\n      <th></th>\n      <th>ip</th>\n      <th>app</th>\n      <th>device</th>\n      <th>os</th>\n      <th>channel</th>\n      <th>is_attributed</th>\n    </tr>\n  </thead>\n  <tbody>\n    <tr>\n      <th>count</th>\n      <td>100000.000000</td>\n      <td>100000.00000</td>\n      <td>100000.000000</td>\n      <td>100000.000000</td>\n      <td>100000.000000</td>\n      <td>100000.000000</td>\n    </tr>\n    <tr>\n      <th>mean</th>\n      <td>91255.879670</td>\n      <td>12.04788</td>\n      <td>21.771250</td>\n      <td>22.818280</td>\n      <td>268.832460</td>\n      <td>0.002270</td>\n    </tr>\n    <tr>\n      <th>std</th>\n      <td>69835.553661</td>\n      <td>14.94150</td>\n      <td>259.667767</td>\n      <td>55.943136</td>\n      <td>129.724248</td>\n      <td>0.047591</td>\n    </tr>\n    <tr>\n      <th>min</th>\n      <td>9.000000</td>\n      <td>1.00000</td>\n      <td>0.000000</td>\n      <td>0.000000</td>\n      <td>3.000000</td>\n      <td>0.000000</td>\n    </tr>\n    <tr>\n      <th>25%</th>\n      <td>40552.000000</td>\n      <td>3.00000</td>\n      <td>1.000000</td>\n      <td>13.000000</td>\n      <td>145.000000</td>\n      <td>0.000000</td>\n    </tr>\n    <tr>\n      <th>50%</th>\n      <td>79827.000000</td>\n      <td>12.00000</td>\n      <td>1.000000</td>\n      <td>18.000000</td>\n      <td>258.000000</td>\n      <td>0.000000</td>\n    </tr>\n    <tr>\n      <th>75%</th>\n      <td>118252.000000</td>\n      <td>15.00000</td>\n      <td>1.000000</td>\n      <td>19.000000</td>\n      <td>379.000000</td>\n      <td>0.000000</td>\n    </tr>\n    <tr>\n      <th>max</th>\n      <td>364757.000000</td>\n      <td>551.00000</td>\n      <td>3867.000000</td>\n      <td>866.000000</td>\n      <td>498.000000</td>\n      <td>1.000000</td>\n    </tr>\n  </tbody>\n</table>\n</div>", 
                        "text/plain": "                  ip           app         device             os  \\\ncount  100000.000000  100000.00000  100000.000000  100000.000000   \nmean    91255.879670      12.04788      21.771250      22.818280   \nstd     69835.553661      14.94150     259.667767      55.943136   \nmin         9.000000       1.00000       0.000000       0.000000   \n25%     40552.000000       3.00000       1.000000      13.000000   \n50%     79827.000000      12.00000       1.000000      18.000000   \n75%    118252.000000      15.00000       1.000000      19.000000   \nmax    364757.000000     551.00000    3867.000000     866.000000   \n\n             channel  is_attributed  \ncount  100000.000000  100000.000000  \nmean      268.832460       0.002270  \nstd       129.724248       0.047591  \nmin         3.000000       0.000000  \n25%       145.000000       0.000000  \n50%       258.000000       0.000000  \n75%       379.000000       0.000000  \nmax       498.000000       1.000000  "
                    }, 
                    "output_type": "execute_result"
                }
            ], 
            "source": "train.describe()"
        }, 
        {
            "execution_count": 8, 
            "cell_type": "code", 
            "metadata": {}, 
            "outputs": [
                {
                    "execution_count": 8, 
                    "metadata": {}, 
                    "data": {
                        "text/html": "<div>\n<style scoped>\n    .dataframe tbody tr th:only-of-type {\n        vertical-align: middle;\n    }\n\n    .dataframe tbody tr th {\n        vertical-align: top;\n    }\n\n    .dataframe thead th {\n        text-align: right;\n    }\n</style>\n<table border=\"1\" class=\"dataframe\">\n  <thead>\n    <tr style=\"text-align: right;\">\n      <th></th>\n      <th>ip</th>\n      <th>app</th>\n      <th>device</th>\n      <th>os</th>\n      <th>channel</th>\n      <th>click_time</th>\n      <th>is_attributed</th>\n    </tr>\n  </thead>\n  <tbody>\n    <tr>\n      <th>0</th>\n      <td>87540</td>\n      <td>12</td>\n      <td>1</td>\n      <td>13</td>\n      <td>497</td>\n      <td>2017-11-07 09:30:38</td>\n      <td>0</td>\n    </tr>\n    <tr>\n      <th>1</th>\n      <td>105560</td>\n      <td>25</td>\n      <td>1</td>\n      <td>17</td>\n      <td>259</td>\n      <td>2017-11-07 13:40:27</td>\n      <td>0</td>\n    </tr>\n    <tr>\n      <th>2</th>\n      <td>101424</td>\n      <td>12</td>\n      <td>1</td>\n      <td>19</td>\n      <td>212</td>\n      <td>2017-11-07 18:05:24</td>\n      <td>0</td>\n    </tr>\n    <tr>\n      <th>3</th>\n      <td>94584</td>\n      <td>13</td>\n      <td>1</td>\n      <td>13</td>\n      <td>477</td>\n      <td>2017-11-07 04:58:08</td>\n      <td>0</td>\n    </tr>\n    <tr>\n      <th>4</th>\n      <td>68413</td>\n      <td>12</td>\n      <td>1</td>\n      <td>1</td>\n      <td>178</td>\n      <td>2017-11-09 09:00:09</td>\n      <td>0</td>\n    </tr>\n  </tbody>\n</table>\n</div>", 
                        "text/plain": "       ip  app  device  os  channel           click_time  is_attributed\n0   87540   12       1  13      497  2017-11-07 09:30:38              0\n1  105560   25       1  17      259  2017-11-07 13:40:27              0\n2  101424   12       1  19      212  2017-11-07 18:05:24              0\n3   94584   13       1  13      477  2017-11-07 04:58:08              0\n4   68413   12       1   1      178  2017-11-09 09:00:09              0"
                    }, 
                    "output_type": "execute_result"
                }
            ], 
            "source": "train.head()"
        }, 
        {
            "source": "# 3. Feature engineering", 
            "cell_type": "markdown", 
            "metadata": {}
        }, 
        {
            "source": "### 3.1 Feature selection\n\nOn splitte le jeu d'entrainement en input+output", 
            "cell_type": "markdown", 
            "metadata": {}
        }, 
        {
            "execution_count": 9, 
            "cell_type": "code", 
            "metadata": {}, 
            "outputs": [], 
            "source": "y = train['is_attributed']\ntrain.drop(['is_attributed'], axis=1, inplace=True)\n#test.drop(['click_id'], axis=1, inplace=True)"
        }, 
        {
            "execution_count": 10, 
            "cell_type": "code", 
            "metadata": {}, 
            "outputs": [
                {
                    "execution_count": 10, 
                    "metadata": {}, 
                    "data": {
                        "text/plain": "22"
                    }, 
                    "output_type": "execute_result"
                }
            ], 
            "source": "sub = pd.DataFrame()\ngc.collect()"
        }, 
        {
            "execution_count": 11, 
            "cell_type": "code", 
            "metadata": {}, 
            "outputs": [
                {
                    "execution_count": 11, 
                    "metadata": {}, 
                    "data": {
                        "text/html": "<div>\n<style scoped>\n    .dataframe tbody tr th:only-of-type {\n        vertical-align: middle;\n    }\n\n    .dataframe tbody tr th {\n        vertical-align: top;\n    }\n\n    .dataframe thead th {\n        text-align: right;\n    }\n</style>\n<table border=\"1\" class=\"dataframe\">\n  <thead>\n    <tr style=\"text-align: right;\">\n      <th></th>\n      <th>ip</th>\n      <th>app</th>\n      <th>device</th>\n      <th>os</th>\n      <th>channel</th>\n      <th>click_time</th>\n    </tr>\n  </thead>\n  <tbody>\n    <tr>\n      <th>0</th>\n      <td>87540</td>\n      <td>12</td>\n      <td>1</td>\n      <td>13</td>\n      <td>497</td>\n      <td>2017-11-07 09:30:38</td>\n    </tr>\n    <tr>\n      <th>1</th>\n      <td>105560</td>\n      <td>25</td>\n      <td>1</td>\n      <td>17</td>\n      <td>259</td>\n      <td>2017-11-07 13:40:27</td>\n    </tr>\n    <tr>\n      <th>2</th>\n      <td>101424</td>\n      <td>12</td>\n      <td>1</td>\n      <td>19</td>\n      <td>212</td>\n      <td>2017-11-07 18:05:24</td>\n    </tr>\n    <tr>\n      <th>3</th>\n      <td>94584</td>\n      <td>13</td>\n      <td>1</td>\n      <td>13</td>\n      <td>477</td>\n      <td>2017-11-07 04:58:08</td>\n    </tr>\n    <tr>\n      <th>4</th>\n      <td>68413</td>\n      <td>12</td>\n      <td>1</td>\n      <td>1</td>\n      <td>178</td>\n      <td>2017-11-09 09:00:09</td>\n    </tr>\n  </tbody>\n</table>\n</div>", 
                        "text/plain": "       ip  app  device  os  channel           click_time\n0   87540   12       1  13      497  2017-11-07 09:30:38\n1  105560   25       1  17      259  2017-11-07 13:40:27\n2  101424   12       1  19      212  2017-11-07 18:05:24\n3   94584   13       1  13      477  2017-11-07 04:58:08\n4   68413   12       1   1      178  2017-11-09 09:00:09"
                    }, 
                    "output_type": "execute_result"
                }
            ], 
            "source": "train.head()\n#test.head()"
        }, 
        {
            "execution_count": 12, 
            "cell_type": "code", 
            "metadata": {}, 
            "outputs": [
                {
                    "output_type": "stream", 
                    "name": "stdout", 
                    "text": "100000\n"
                }, 
                {
                    "execution_count": 12, 
                    "metadata": {}, 
                    "data": {
                        "text/plain": "0"
                    }, 
                    "output_type": "execute_result"
                }
            ], 
            "source": "nrow_train = train.shape[0]\nprint (nrow_train)\n\n#merge = pd.concat([train, test])\n#del train, test\n\nmerge = train\ngc.collect()"
        }, 
        {
            "source": "### 3.2 Creation de nouvelles colonnes et suppression des colonnes d'origine correspondantes\nOn transforme certaines colonnes puis on suppprime les colonnes inutiles:\n\nOn compte le # de clicks par ip: aggr\u00e9gation ip > clickByIp puis suppression de la colonne", 
            "cell_type": "markdown", 
            "metadata": {}
        }, 
        {
            "execution_count": 13, 
            "cell_type": "code", 
            "metadata": {}, 
            "outputs": [
                {
                    "execution_count": 13, 
                    "metadata": {}, 
                    "data": {
                        "text/html": "<div>\n<style scoped>\n    .dataframe tbody tr th:only-of-type {\n        vertical-align: middle;\n    }\n\n    .dataframe tbody tr th {\n        vertical-align: top;\n    }\n\n    .dataframe thead th {\n        text-align: right;\n    }\n</style>\n<table border=\"1\" class=\"dataframe\">\n  <thead>\n    <tr style=\"text-align: right;\">\n      <th></th>\n      <th>ip</th>\n      <th>clicks_by_ip</th>\n    </tr>\n  </thead>\n  <tbody>\n    <tr>\n      <th>0</th>\n      <td>9</td>\n      <td>1</td>\n    </tr>\n    <tr>\n      <th>1</th>\n      <td>10</td>\n      <td>3</td>\n    </tr>\n    <tr>\n      <th>2</th>\n      <td>19</td>\n      <td>1</td>\n    </tr>\n    <tr>\n      <th>3</th>\n      <td>20</td>\n      <td>4</td>\n    </tr>\n    <tr>\n      <th>4</th>\n      <td>25</td>\n      <td>1</td>\n    </tr>\n  </tbody>\n</table>\n</div>", 
                        "text/plain": "   ip  clicks_by_ip\n0   9             1\n1  10             3\n2  19             1\n3  20             4\n4  25             1"
                    }, 
                    "output_type": "execute_result"
                }
            ], 
            "source": "ip_count = merge.groupby(['ip'])['channel'].count().reset_index()\nip_count.columns = ['ip', 'clicks_by_ip']\nip_count.head()"
        }, 
        {
            "execution_count": 14, 
            "cell_type": "code", 
            "metadata": {}, 
            "outputs": [], 
            "source": "merge = pd.merge(merge, ip_count, on='ip', how='left', sort=False)\nmerge['clicks_by_ip'] = merge['clicks_by_ip'].astype('uint16')\nmerge.drop('ip', axis=1, inplace=True)\n#merge.describe()"
        }, 
        {
            "execution_count": 15, 
            "cell_type": "code", 
            "metadata": {}, 
            "outputs": [
                {
                    "execution_count": 15, 
                    "metadata": {}, 
                    "data": {
                        "text/plain": "65"
                    }, 
                    "output_type": "execute_result"
                }
            ], 
            "source": "train = merge[:nrow_train]\ntest = merge[nrow_train:]\ndel test, merge\ngc.collect()\n#train.head()"
        }, 
        {
            "source": "Transformation de la colonne click_time (timestamp) en jours de l'ann\u00e9e/heure du jour exploitable par le mod\u00e8le", 
            "cell_type": "markdown", 
            "metadata": {}
        }, 
        {
            "execution_count": 16, 
            "cell_type": "code", 
            "metadata": {}, 
            "outputs": [], 
            "source": "def timeFeatures(df):\n    # Make some new features with click_time column\n    df['datetime'] = pd.to_datetime(df['click_time'])\n    #df['dow']      = df['datetime'].dt.dayofweek\n    df['doy']      = df['datetime'].dt.dayofyear\n    df['hod']      = df['datetime'].dt.hour\n    #df[\"dteom\"]    = df[\"datetime\"].dt.daysinmonth - df[\"datetime\"].dt.day    \n    df.drop(['click_time', 'datetime'], axis=1, inplace=True)\n    return df"
        }, 
        {
            "execution_count": 17, 
            "cell_type": "code", 
            "metadata": {}, 
            "outputs": [
                {
                    "execution_count": 17, 
                    "metadata": {}, 
                    "data": {
                        "text/plain": "21"
                    }, 
                    "output_type": "execute_result"
                }
            ], 
            "source": "train = timeFeatures(train)\ngc.collect()"
        }, 
        {
            "execution_count": 18, 
            "cell_type": "code", 
            "metadata": {}, 
            "outputs": [
                {
                    "execution_count": 18, 
                    "metadata": {}, 
                    "data": {
                        "text/html": "<div>\n<style scoped>\n    .dataframe tbody tr th:only-of-type {\n        vertical-align: middle;\n    }\n\n    .dataframe tbody tr th {\n        vertical-align: top;\n    }\n\n    .dataframe thead th {\n        text-align: right;\n    }\n</style>\n<table border=\"1\" class=\"dataframe\">\n  <thead>\n    <tr style=\"text-align: right;\">\n      <th></th>\n      <th>app</th>\n      <th>device</th>\n      <th>os</th>\n      <th>channel</th>\n      <th>clicks_by_ip</th>\n      <th>doy</th>\n      <th>hod</th>\n    </tr>\n  </thead>\n  <tbody>\n    <tr>\n      <th>0</th>\n      <td>12</td>\n      <td>1</td>\n      <td>13</td>\n      <td>497</td>\n      <td>8</td>\n      <td>311</td>\n      <td>9</td>\n    </tr>\n    <tr>\n      <th>1</th>\n      <td>25</td>\n      <td>1</td>\n      <td>17</td>\n      <td>259</td>\n      <td>149</td>\n      <td>311</td>\n      <td>13</td>\n    </tr>\n    <tr>\n      <th>2</th>\n      <td>12</td>\n      <td>1</td>\n      <td>19</td>\n      <td>212</td>\n      <td>2</td>\n      <td>311</td>\n      <td>18</td>\n    </tr>\n    <tr>\n      <th>3</th>\n      <td>13</td>\n      <td>1</td>\n      <td>13</td>\n      <td>477</td>\n      <td>3</td>\n      <td>311</td>\n      <td>4</td>\n    </tr>\n    <tr>\n      <th>4</th>\n      <td>12</td>\n      <td>1</td>\n      <td>1</td>\n      <td>178</td>\n      <td>4</td>\n      <td>313</td>\n      <td>9</td>\n    </tr>\n    <tr>\n      <th>5</th>\n      <td>3</td>\n      <td>1</td>\n      <td>17</td>\n      <td>115</td>\n      <td>2</td>\n      <td>313</td>\n      <td>1</td>\n    </tr>\n    <tr>\n      <th>6</th>\n      <td>1</td>\n      <td>1</td>\n      <td>17</td>\n      <td>135</td>\n      <td>8</td>\n      <td>313</td>\n      <td>1</td>\n    </tr>\n    <tr>\n      <th>7</th>\n      <td>9</td>\n      <td>1</td>\n      <td>25</td>\n      <td>442</td>\n      <td>5</td>\n      <td>311</td>\n      <td>10</td>\n    </tr>\n    <tr>\n      <th>8</th>\n      <td>2</td>\n      <td>2</td>\n      <td>22</td>\n      <td>364</td>\n      <td>5</td>\n      <td>312</td>\n      <td>9</td>\n    </tr>\n    <tr>\n      <th>9</th>\n      <td>3</td>\n      <td>1</td>\n      <td>19</td>\n      <td>135</td>\n      <td>1</td>\n      <td>312</td>\n      <td>12</td>\n    </tr>\n  </tbody>\n</table>\n</div>", 
                        "text/plain": "   app  device  os  channel  clicks_by_ip  doy  hod\n0   12       1  13      497             8  311    9\n1   25       1  17      259           149  311   13\n2   12       1  19      212             2  311   18\n3   13       1  13      477             3  311    4\n4   12       1   1      178             4  313    9\n5    3       1  17      115             2  313    1\n6    1       1  17      135             8  313    1\n7    9       1  25      442             5  311   10\n8    2       2  22      364             5  312    9\n9    3       1  19      135             1  312   12"
                    }, 
                    "output_type": "execute_result"
                }
            ], 
            "source": "train[:10]"
        }, 
        {
            "source": "##  4. Entrainement du mod\u00e8le\n\nNow that we have our feature engineered data, we have a vast array of algorythms available to create our model (scikit-learn, xgboost, sparkML, tensorflow, H2O ...). It is a common thing to train several of these models and compare (or even combine) them in order to have the best possible solution.\n\nHere we chose to just train an XGBoost model, which is a very fast and efficient way to compute \"decision trees\" (gradient boosted trees).\n\nMore info on what XGBoost is and why to use it there : https://machinelearningmastery.com/gentle-introduction-xgboost-applied-machine-learning/\n", 
            "cell_type": "markdown", 
            "metadata": {}
        }, 
        {
            "source": "### 4.1 Parameter tuning ", 
            "cell_type": "markdown", 
            "metadata": {}
        }, 
        {
            "execution_count": 19, 
            "cell_type": "code", 
            "metadata": {}, 
            "outputs": [], 
            "source": "params = {'eval_metric': 'auc', \n          'grow_policy': \"lossguide\",\n          'max_leaves': 1400,  \n          'subsample': 0.9, \n          'colsample_bytree': 0.7, \n          'colsample_bylevel':0.7,\n          'min_child_weight':0,\n          'alpha':4,\n          'silent': True}"
        }, 
        {
            "source": "These are the parameters of our model. they have been found using grid-search techniques, which usually implies to run the training for every possible combinations of parameters that seem relevant to the data scientist, based on intuition and experimentations.\n\nIt is very time consuming and intense computing-wise, so for the sake of this example, we will just assume that these are the optimal paremeters.", 
            "cell_type": "markdown", 
            "metadata": {}
        }, 
        {
            "source": "### 4.2 Entrainement sur les donn\u00e9es train_sample\nOn mesure l'AUC (Area Under Curve). L'optimum est obtenu apr\u00e8s 35 it\u00e9rations, apr\u00e8s quoi le mod\u00e8le se d\u00e9grade (overfitting)", 
            "cell_type": "markdown", 
            "metadata": {}
        }, 
        {
            "execution_count": 20, 
            "cell_type": "code", 
            "metadata": {}, 
            "outputs": [
                {
                    "output_type": "stream", 
                    "name": "stdout", 
                    "text": "[0]\ttrain-auc:0.5\tvalid-auc:0.5\nMultiple eval metrics have been passed: 'valid-auc' will be used for early stopping.\n\nWill train until valid-auc hasn't improved in 25 rounds.\n[5]\ttrain-auc:0.86201\tvalid-auc:0.866734\n[10]\ttrain-auc:0.862221\tvalid-auc:0.866801\n[15]\ttrain-auc:0.947177\tvalid-auc:0.966731\n[20]\ttrain-auc:0.96716\tvalid-auc:0.972939\n[25]\ttrain-auc:0.972379\tvalid-auc:0.979031\n[30]\ttrain-auc:0.972349\tvalid-auc:0.976489\n[35]\ttrain-auc:0.976247\tvalid-auc:0.98242\n[40]\ttrain-auc:0.977637\tvalid-auc:0.976924\n[45]\ttrain-auc:0.978981\tvalid-auc:0.977074\n[50]\ttrain-auc:0.980395\tvalid-auc:0.977542\n[55]\ttrain-auc:0.981602\tvalid-auc:0.976126\n[60]\ttrain-auc:0.981891\tvalid-auc:0.975813\nStopping. Best iteration:\n[37]\ttrain-auc:0.976715\tvalid-auc:0.982466\n\n"
                }, 
                {
                    "execution_count": 20, 
                    "metadata": {}, 
                    "data": {
                        "text/plain": "35"
                    }, 
                    "output_type": "execute_result"
                }
            ], 
            "source": "x1, x2, y1, y2 = train_test_split(train, y, test_size=0.1, random_state=99)\ndtrain = xgb.DMatrix(x1, y1)\ndvalid = xgb.DMatrix(x2, y2)\ndel x1, y1, x2, y2 \ngc.collect()\nwatchlist = [(dtrain, 'train'), (dvalid, 'valid')]\n#nbrounds = 25\nnbrounds = 25\nxgb_eval = {}\nmodel = xgb.train(params, dtrain, 200, watchlist, maximize=True, evals_result=xgb_eval, early_stopping_rounds = nbrounds, verbose_eval=5)\ndel dvalid\ndel dtrain\ndel train\ngc.collect()"
        }, 
        {
            "source": "### 4.3 Evaluation du mod\u00e8le\nOn affiche la courbe ROC ", 
            "cell_type": "markdown", 
            "metadata": {}
        }, 
        {
            "execution_count": 21, 
            "cell_type": "code", 
            "metadata": {}, 
            "outputs": [
                {
                    "execution_count": 21, 
                    "metadata": {}, 
                    "data": {
                        "text/plain": "Text(0.5,0,'Number of iterations')"
                    }, 
                    "output_type": "execute_result"
                }, 
                {
                    "output_type": "display_data", 
                    "data": {
                        "image/png": "[encoded data removed]", 
                        "text/plain": "<matplotlib.figure.Figure at 0x2b3602f368d0>"
                    }, 
                    "metadata": {}
                }
            ], 
            "source": "#xgb_eval\neval_steps = range(len(xgb_eval['train']['auc']))\nfig, ax = plt.subplots(1, 1, sharex=True, figsize=(8, 6))\n\nax.plot(eval_steps, [x for x in xgb_eval['train']['auc']], label='Train')\nax.plot(eval_steps, [x for x in xgb_eval['valid']['auc']], label='Test')\nax.legend()\nax.set_title('Accuracy')\nax.set_xlabel('Number of iterations')"
        }, 
        {
            "source": "On affiche l'importance des features sur la pr\u00e9diction et l'arbre obtenu", 
            "cell_type": "markdown", 
            "metadata": {}
        }, 
        {
            "execution_count": 22, 
            "cell_type": "code", 
            "metadata": {}, 
            "outputs": [
                {
                    "output_type": "display_data", 
                    "data": {
                        "image/png": "[encoded data removed]", 
                        "text/plain": "<matplotlib.figure.Figure at 0x2b35d653acf8>"
                    }, 
                    "metadata": {}
                }
            ], 
            "source": "plot_importance(model)\nplt.show()"
        }, 
        {
            "execution_count": 23, 
            "cell_type": "code", 
            "metadata": {}, 
            "outputs": [
                {
                    "output_type": "display_data", 
                    "data": {
                        "image/png": "[encoded data removed]", 
                        "text/plain": "<matplotlib.figure.Figure at 0x2b3603f77048>"
                    }, 
                    "metadata": {}
                }
            ], 
            "source": "import matplotlib.pyplot as plt \nplt.style.use('ggplot') \n#plt.figure(figsize=(40,40))\nxgb.plot_tree(model, num_trees=2) \nax = xgb.to_graphviz(model, num_trees=2)\nplt.show()"
        }, 
        {
            "source": "## 5. Utilisation du mod\u00e8le pour faire des pr\u00e9dictions\n\nMaintenant que nous avons un bon mod\u00e8le entrain\u00e9 nous allons l'utiliser pour pr\u00e9dire sur le jeu de test !\n\n### 5.1 Lecture du jeu de test\ntest.csv, 18M de lignes. <br>Sur notre sandbox d'\u00e9valuation j'ai limit\u00e9 le # de lignes lues \u00e0 100000", 
            "cell_type": "markdown", 
            "metadata": {}
        }, 
        {
            "execution_count": 24, 
            "cell_type": "code", 
            "metadata": {}, 
            "outputs": [], 
            "source": "# The code was removed by DSX for sharing."
        }, 
        {
            "execution_count": 25, 
            "cell_type": "code", 
            "metadata": {}, 
            "outputs": [], 
            "source": "# Upload your test.csv file and use Watson Studio's import to code feature to read it for there \n# changer le # de lignes \u00e0 lire + bas    \ntest = pd.read_csv(body, usecols=test_columns, dtype=dtypes, nrows=100000)\n\n#test.head()"
        }, 
        {
            "source": "### 5.2 Feature engineering sur le jeu de test", 
            "cell_type": "markdown", 
            "metadata": {}
        }, 
        {
            "execution_count": 26, 
            "cell_type": "code", 
            "metadata": {}, 
            "outputs": [], 
            "source": "ip_count = test.groupby(['ip'])['channel'].count().reset_index()\nip_count.columns = ['ip', 'clicks_by_ip']"
        }, 
        {
            "execution_count": 27, 
            "cell_type": "code", 
            "metadata": {}, 
            "outputs": [
                {
                    "execution_count": 27, 
                    "metadata": {}, 
                    "data": {
                        "text/plain": "5369"
                    }, 
                    "output_type": "execute_result"
                }
            ], 
            "source": "test = pd.merge(test, ip_count, on='ip', how='left', sort=False)\ndel ip_count\ngc.collect()"
        }, 
        {
            "execution_count": 28, 
            "cell_type": "code", 
            "metadata": {}, 
            "outputs": [
                {
                    "execution_count": 28, 
                    "metadata": {}, 
                    "data": {
                        "text/html": "<div>\n<style scoped>\n    .dataframe tbody tr th:only-of-type {\n        vertical-align: middle;\n    }\n\n    .dataframe tbody tr th {\n        vertical-align: top;\n    }\n\n    .dataframe thead th {\n        text-align: right;\n    }\n</style>\n<table border=\"1\" class=\"dataframe\">\n  <thead>\n    <tr style=\"text-align: right;\">\n      <th></th>\n      <th>click_id</th>\n      <th>ip</th>\n      <th>app</th>\n      <th>device</th>\n      <th>os</th>\n      <th>channel</th>\n      <th>click_time</th>\n      <th>clicks_by_ip</th>\n    </tr>\n  </thead>\n  <tbody>\n    <tr>\n      <th>0</th>\n      <td>0</td>\n      <td>5744</td>\n      <td>9</td>\n      <td>1</td>\n      <td>3</td>\n      <td>107</td>\n      <td>2017-11-10 04:00:00</td>\n      <td>2</td>\n    </tr>\n    <tr>\n      <th>1</th>\n      <td>1</td>\n      <td>119901</td>\n      <td>9</td>\n      <td>1</td>\n      <td>3</td>\n      <td>466</td>\n      <td>2017-11-10 04:00:00</td>\n      <td>16</td>\n    </tr>\n    <tr>\n      <th>2</th>\n      <td>2</td>\n      <td>72287</td>\n      <td>21</td>\n      <td>1</td>\n      <td>19</td>\n      <td>128</td>\n      <td>2017-11-10 04:00:00</td>\n      <td>15</td>\n    </tr>\n    <tr>\n      <th>3</th>\n      <td>3</td>\n      <td>78477</td>\n      <td>15</td>\n      <td>1</td>\n      <td>13</td>\n      <td>111</td>\n      <td>2017-11-10 04:00:00</td>\n      <td>9</td>\n    </tr>\n    <tr>\n      <th>4</th>\n      <td>4</td>\n      <td>123080</td>\n      <td>12</td>\n      <td>1</td>\n      <td>13</td>\n      <td>328</td>\n      <td>2017-11-10 04:00:00</td>\n      <td>5</td>\n    </tr>\n  </tbody>\n</table>\n</div>", 
                        "text/plain": "   click_id      ip  app  device  os  channel           click_time  \\\n0         0    5744    9       1   3      107  2017-11-10 04:00:00   \n1         1  119901    9       1   3      466  2017-11-10 04:00:00   \n2         2   72287   21       1  19      128  2017-11-10 04:00:00   \n3         3   78477   15       1  13      111  2017-11-10 04:00:00   \n4         4  123080   12       1  13      328  2017-11-10 04:00:00   \n\n   clicks_by_ip  \n0             2  \n1            16  \n2            15  \n3             9  \n4             5  "
                    }, 
                    "output_type": "execute_result"
                }
            ], 
            "source": "test.head()"
        }, 
        {
            "execution_count": 29, 
            "cell_type": "code", 
            "metadata": {}, 
            "outputs": [
                {
                    "execution_count": 29, 
                    "metadata": {}, 
                    "data": {
                        "text/html": "<div>\n<style scoped>\n    .dataframe tbody tr th:only-of-type {\n        vertical-align: middle;\n    }\n\n    .dataframe tbody tr th {\n        vertical-align: top;\n    }\n\n    .dataframe thead th {\n        text-align: right;\n    }\n</style>\n<table border=\"1\" class=\"dataframe\">\n  <thead>\n    <tr style=\"text-align: right;\">\n      <th></th>\n      <th>click_id</th>\n      <th>ip</th>\n      <th>app</th>\n      <th>device</th>\n      <th>os</th>\n      <th>channel</th>\n      <th>clicks_by_ip</th>\n    </tr>\n  </thead>\n  <tbody>\n    <tr>\n      <th>count</th>\n      <td>100000.000000</td>\n      <td>100000.000000</td>\n      <td>100000.000000</td>\n      <td>100000.000000</td>\n      <td>100000.000000</td>\n      <td>100000.000000</td>\n      <td>100000.000000</td>\n    </tr>\n    <tr>\n      <th>mean</th>\n      <td>49999.500000</td>\n      <td>63285.356650</td>\n      <td>11.833500</td>\n      <td>1.471380</td>\n      <td>18.411250</td>\n      <td>266.481270</td>\n      <td>20.381980</td>\n    </tr>\n    <tr>\n      <th>std</th>\n      <td>28867.657797</td>\n      <td>36486.043192</td>\n      <td>10.884984</td>\n      <td>22.279523</td>\n      <td>10.572121</td>\n      <td>136.471051</td>\n      <td>50.103823</td>\n    </tr>\n    <tr>\n      <th>min</th>\n      <td>0.000000</td>\n      <td>9.000000</td>\n      <td>0.000000</td>\n      <td>0.000000</td>\n      <td>0.000000</td>\n      <td>0.000000</td>\n      <td>1.000000</td>\n    </tr>\n    <tr>\n      <th>25%</th>\n      <td>24999.750000</td>\n      <td>32560.000000</td>\n      <td>3.000000</td>\n      <td>1.000000</td>\n      <td>13.000000</td>\n      <td>137.000000</td>\n      <td>5.000000</td>\n    </tr>\n    <tr>\n      <th>50%</th>\n      <td>49999.500000</td>\n      <td>64032.000000</td>\n      <td>12.000000</td>\n      <td>1.000000</td>\n      <td>18.000000</td>\n      <td>232.000000</td>\n      <td>9.000000</td>\n    </tr>\n    <tr>\n      <th>75%</th>\n      <td>74999.250000</td>\n      <td>94878.000000</td>\n      <td>15.000000</td>\n      <td>1.000000</td>\n      <td>19.000000</td>\n      <td>409.000000</td>\n      <td>16.000000</td>\n    </tr>\n    <tr>\n      <th>max</th>\n      <td>99999.000000</td>\n      <td>126371.000000</td>\n      <td>435.000000</td>\n      <td>2865.000000</td>\n      <td>287.000000</td>\n      <td>497.000000</td>\n      <td>437.000000</td>\n    </tr>\n  </tbody>\n</table>\n</div>", 
                        "text/plain": "            click_id             ip            app         device  \\\ncount  100000.000000  100000.000000  100000.000000  100000.000000   \nmean    49999.500000   63285.356650      11.833500       1.471380   \nstd     28867.657797   36486.043192      10.884984      22.279523   \nmin         0.000000       9.000000       0.000000       0.000000   \n25%     24999.750000   32560.000000       3.000000       1.000000   \n50%     49999.500000   64032.000000      12.000000       1.000000   \n75%     74999.250000   94878.000000      15.000000       1.000000   \nmax     99999.000000  126371.000000     435.000000    2865.000000   \n\n                  os        channel   clicks_by_ip  \ncount  100000.000000  100000.000000  100000.000000  \nmean       18.411250     266.481270      20.381980  \nstd        10.572121     136.471051      50.103823  \nmin         0.000000       0.000000       1.000000  \n25%        13.000000     137.000000       5.000000  \n50%        18.000000     232.000000       9.000000  \n75%        19.000000     409.000000      16.000000  \nmax       287.000000     497.000000     437.000000  "
                    }, 
                    "output_type": "execute_result"
                }
            ], 
            "source": "test.describe()"
        }, 
        {
            "execution_count": 30, 
            "cell_type": "code", 
            "metadata": {}, 
            "outputs": [], 
            "source": "sub['click_id'] = test['click_id'].astype('int')\ntest['clicks_by_ip'] = test['clicks_by_ip'].astype('uint16')\ntest = timeFeatures(test)\ntest.drop(['click_id', 'ip'], axis=1, inplace=True)"
        }, 
        {
            "source": "### 5.3 Appel du mod\u00e8le entrain\u00e9", 
            "cell_type": "markdown", 
            "metadata": {}
        }, 
        {
            "execution_count": 31, 
            "cell_type": "code", 
            "metadata": {}, 
            "outputs": [
                {
                    "execution_count": 31, 
                    "metadata": {}, 
                    "data": {
                        "text/plain": "56"
                    }, 
                    "output_type": "execute_result"
                }
            ], 
            "source": "dtest = xgb.DMatrix(test)\n#del test\ngc.collect()"
        }, 
        {
            "execution_count": 32, 
            "cell_type": "code", 
            "metadata": {}, 
            "outputs": [], 
            "source": "sub['is_attributed'] = model.predict(dtest, ntree_limit=model.best_ntree_limit)"
        }, 
        {
            "source": "### 5.4. Affichage du r\u00e9sultat et des KPIs\nOn remarque un petit \u00e9cart statistique entre la pr\u00e9diction et la valeur attendue", 
            "cell_type": "markdown", 
            "metadata": {}
        }, 
        {
            "execution_count": 33, 
            "cell_type": "code", 
            "metadata": {}, 
            "outputs": [
                {
                    "execution_count": 33, 
                    "metadata": {}, 
                    "data": {
                        "text/html": "<div>\n<style scoped>\n    .dataframe tbody tr th:only-of-type {\n        vertical-align: middle;\n    }\n\n    .dataframe tbody tr th {\n        vertical-align: top;\n    }\n\n    .dataframe thead th {\n        text-align: right;\n    }\n</style>\n<table border=\"1\" class=\"dataframe\">\n  <thead>\n    <tr style=\"text-align: right;\">\n      <th></th>\n      <th>click_id</th>\n      <th>is_attributed</th>\n    </tr>\n  </thead>\n  <tbody>\n    <tr>\n      <th>0</th>\n      <td>0</td>\n      <td>0.001333</td>\n    </tr>\n    <tr>\n      <th>1</th>\n      <td>1</td>\n      <td>0.000681</td>\n    </tr>\n    <tr>\n      <th>2</th>\n      <td>2</td>\n      <td>-0.000850</td>\n    </tr>\n    <tr>\n      <th>3</th>\n      <td>3</td>\n      <td>-0.000404</td>\n    </tr>\n    <tr>\n      <th>4</th>\n      <td>4</td>\n      <td>0.000435</td>\n    </tr>\n  </tbody>\n</table>\n</div>", 
                        "text/plain": "   click_id  is_attributed\n0         0       0.001333\n1         1       0.000681\n2         2      -0.000850\n3         3      -0.000404\n4         4       0.000435"
                    }, 
                    "output_type": "execute_result"
                }
            ], 
            "source": "sub.head()"
        }, 
        {
            "execution_count": 34, 
            "cell_type": "code", 
            "metadata": {}, 
            "outputs": [
                {
                    "execution_count": 34, 
                    "metadata": {}, 
                    "data": {
                        "text/html": "<div>\n<style scoped>\n    .dataframe tbody tr th:only-of-type {\n        vertical-align: middle;\n    }\n\n    .dataframe tbody tr th {\n        vertical-align: top;\n    }\n\n    .dataframe thead th {\n        text-align: right;\n    }\n</style>\n<table border=\"1\" class=\"dataframe\">\n  <thead>\n    <tr style=\"text-align: right;\">\n      <th></th>\n      <th>click_id</th>\n      <th>is_attributed</th>\n    </tr>\n  </thead>\n  <tbody>\n    <tr>\n      <th>10811</th>\n      <td>10811</td>\n      <td>0.600906</td>\n    </tr>\n    <tr>\n      <th>15605</th>\n      <td>15603</td>\n      <td>0.505446</td>\n    </tr>\n    <tr>\n      <th>16096</th>\n      <td>16096</td>\n      <td>0.595736</td>\n    </tr>\n    <tr>\n      <th>33537</th>\n      <td>33537</td>\n      <td>0.541547</td>\n    </tr>\n    <tr>\n      <th>36701</th>\n      <td>36701</td>\n      <td>0.679731</td>\n    </tr>\n    <tr>\n      <th>40053</th>\n      <td>40053</td>\n      <td>0.661889</td>\n    </tr>\n    <tr>\n      <th>56258</th>\n      <td>56258</td>\n      <td>0.661889</td>\n    </tr>\n    <tr>\n      <th>58060</th>\n      <td>58058</td>\n      <td>0.600906</td>\n    </tr>\n    <tr>\n      <th>65397</th>\n      <td>65397</td>\n      <td>0.600907</td>\n    </tr>\n    <tr>\n      <th>69344</th>\n      <td>69344</td>\n      <td>0.661889</td>\n    </tr>\n    <tr>\n      <th>73997</th>\n      <td>73997</td>\n      <td>0.596010</td>\n    </tr>\n    <tr>\n      <th>79623</th>\n      <td>79623</td>\n      <td>0.624306</td>\n    </tr>\n  </tbody>\n</table>\n</div>", 
                        "text/plain": "       click_id  is_attributed\n10811     10811       0.600906\n15605     15603       0.505446\n16096     16096       0.595736\n33537     33537       0.541547\n36701     36701       0.679731\n40053     40053       0.661889\n56258     56258       0.661889\n58060     58058       0.600906\n65397     65397       0.600907\n69344     69344       0.661889\n73997     73997       0.596010\n79623     79623       0.624306"
                    }, 
                    "output_type": "execute_result"
                }
            ], 
            "source": "sub[sub['is_attributed']>0.5]"
        }, 
        {
            "source": "L'\u00e9cart est plus important sur les lignes attribu\u00e9es ce qui est normal vu la faible pertinence statistique\n<br>Pour bien faire il faudrait amplifier ces cas avant d'entrainer le mod\u00e8le", 
            "cell_type": "markdown", 
            "metadata": {}
        }, 
        {
            "execution_count": 35, 
            "cell_type": "code", 
            "metadata": {}, 
            "outputs": [
                {
                    "output_type": "stream", 
                    "name": "stdout", 
                    "text": "F1 score: [ 0.99880357  0.        ]\nPrecision: [ 0.99772973  0.        ]\nRecall: [ 0.99987973  0.        ]\n"
                }
            ], 
            "source": "from sklearn.metrics import precision_recall_fscore_support as metrics\nfrom sklearn.metrics import confusion_matrix\nypred = sub['is_attributed']\n#accuracy_score (y, ypred.round(),normalize=False)\nprec, recall, f1score, support = metrics(y, ypred.round())\n\n\n#print ('Accuracy:', accuracy_score(y, ypred))\nprint ('F1 score:', f1score)\nprint ('Precision:', prec)\nprint ('Recall:', recall)\n#print('Support:', support)"
        }, 
        {
            "execution_count": 36, 
            "cell_type": "code", 
            "metadata": {}, 
            "outputs": [
                {
                    "output_type": "stream", 
                    "name": "stderr", 
                    "text": "/opt/conda/envs/DSX-Python35/lib/python3.5/site-packages/seaborn/categorical.py:1460: FutureWarning: remove_na is deprecated and is a private function. Do not use.\n  stat_data = remove_na(group_data)\n"
                }, 
                {
                    "execution_count": 36, 
                    "metadata": {}, 
                    "data": {
                        "text/plain": "[Text(0,0.5,'%'), Text(0.5,0,'Features'), Text(0.5,1,'KPIs')]"
                    }, 
                    "output_type": "execute_result"
                }, 
                {
                    "output_type": "display_data", 
                    "data": {
                        "image/png": "[encoded data removed]", 
                        "text/plain": "<matplotlib.figure.Figure at 0x2b3602f45c50>"
                    }, 
                    "metadata": {}
                }
            ], 
            "source": "import seaborn as sns\nimport matplotlib.ticker as mtick\ncols = ['f1score', 'precision', 'recall' ]\nkpi = [ f1score[0]*100,prec[0]*100, recall[0]*100 ]\nplt.figure(figsize=(6, 4))\nsns.set(font_scale=1.2)\nax = sns.barplot(cols, kpi, log=False)\nax.set(xlabel='Features', ylabel='%', title='KPIs')\n"
        }, 
        {
            "source": "On obtient un F1 Score de 99% au global", 
            "cell_type": "markdown", 
            "metadata": {}
        }, 
        {
            "execution_count": 37, 
            "cell_type": "code", 
            "metadata": {}, 
            "outputs": [], 
            "source": "import itertools\ndef plot_confusion_matrix(cm, classes,\n                          normalize=False,\n                          title='Confusion matrix',\n                          cmap=plt.cm.Blues):\n    \"\"\"\n    This function prints and plots the confusion matrix.\n    Normalization can be applied by setting `normalize=True`.\n    \"\"\"\n    if normalize:\n        cm = cm.astype('float') / cm.sum(axis=1)[:, np.newaxis]\n        print(\"Normalized confusion matrix\")\n    else:\n        print('Confusion matrix, without normalization')\n\n    print(cm)\n\n    plt.imshow(cm, interpolation='nearest', cmap=cmap)\n    plt.title(title)\n    plt.colorbar()\n    tick_marks = np.arange(len(classes))\n    plt.xticks(tick_marks, classes, rotation=45)\n    plt.yticks(tick_marks, classes)\n\n    fmt = '.2f' if normalize else 'd'\n    thresh = cm.max() / 2.\n    for i, j in itertools.product(range(cm.shape[0]), range(cm.shape[1])):\n        plt.text(j, i, format(cm[i, j], fmt),\n                 horizontalalignment=\"center\",\n                 color=\"white\" if cm[i, j] > thresh else \"black\")\n\n    plt.tight_layout()\n    plt.ylabel('True label')\n    plt.xlabel('Predicted label')"
        }, 
        {
            "source": "Affichage de la confusion matrix", 
            "cell_type": "markdown", 
            "metadata": {}
        }, 
        {
            "execution_count": 38, 
            "cell_type": "code", 
            "metadata": {}, 
            "outputs": [
                {
                    "output_type": "stream", 
                    "name": "stdout", 
                    "text": "Confusion matrix, without normalization\n[[99761    12]\n [  227     0]]\n"
                }, 
                {
                    "output_type": "display_data", 
                    "data": {
                        "image/png": "[encoded data removed]", 
                        "text/plain": "<matplotlib.figure.Figure at 0x2b36032b7da0>"
                    }, 
                    "metadata": {}
                }
            ], 
            "source": "m = confusion_matrix(y, ypred.round())\nclass_names={'non attributed','attributed'}\nnp.set_printoptions(precision=2)\n# plot confusion matrix\nplt.figure()\nplot_confusion_matrix(m, classes=class_names, title='Confusion matrix')\nplt.show()"
        }, 
        {
            "source": "# 6. D\u00e9ploiement et test du mod\u00e8le entrain\u00e9\n### 6.1 D\u00e9ploiement\nNous allons maintenant d\u00e9ployer notre mod\u00e8le entrain\u00e9 sur WatsonML afin de pouvoir l'appeler via API REST ", 
            "cell_type": "markdown", 
            "metadata": {}
        }, 
        {
            "execution_count": 39, 
            "cell_type": "code", 
            "metadata": {}, 
            "outputs": [
                {
                    "execution_count": 39, 
                    "metadata": {}, 
                    "data": {
                        "text/html": "<div>\n<style scoped>\n    .dataframe tbody tr th:only-of-type {\n        vertical-align: middle;\n    }\n\n    .dataframe tbody tr th {\n        vertical-align: top;\n    }\n\n    .dataframe thead th {\n        text-align: right;\n    }\n</style>\n<table border=\"1\" class=\"dataframe\">\n  <thead>\n    <tr style=\"text-align: right;\">\n      <th></th>\n      <th>app</th>\n      <th>device</th>\n      <th>os</th>\n      <th>channel</th>\n      <th>clicks_by_ip</th>\n      <th>doy</th>\n      <th>hod</th>\n    </tr>\n  </thead>\n  <tbody>\n    <tr>\n      <th>count</th>\n      <td>100000.000000</td>\n      <td>100000.000000</td>\n      <td>100000.000000</td>\n      <td>100000.000000</td>\n      <td>100000.000000</td>\n      <td>100000.0</td>\n      <td>100000.0</td>\n    </tr>\n    <tr>\n      <th>mean</th>\n      <td>11.833500</td>\n      <td>1.471380</td>\n      <td>18.411250</td>\n      <td>266.481270</td>\n      <td>20.381980</td>\n      <td>314.0</td>\n      <td>4.0</td>\n    </tr>\n    <tr>\n      <th>std</th>\n      <td>10.884984</td>\n      <td>22.279523</td>\n      <td>10.572121</td>\n      <td>136.471051</td>\n      <td>50.103823</td>\n      <td>0.0</td>\n      <td>0.0</td>\n    </tr>\n    <tr>\n      <th>min</th>\n      <td>0.000000</td>\n      <td>0.000000</td>\n      <td>0.000000</td>\n      <td>0.000000</td>\n      <td>1.000000</td>\n      <td>314.0</td>\n      <td>4.0</td>\n    </tr>\n    <tr>\n      <th>25%</th>\n      <td>3.000000</td>\n      <td>1.000000</td>\n      <td>13.000000</td>\n      <td>137.000000</td>\n      <td>5.000000</td>\n      <td>314.0</td>\n      <td>4.0</td>\n    </tr>\n    <tr>\n      <th>50%</th>\n      <td>12.000000</td>\n      <td>1.000000</td>\n      <td>18.000000</td>\n      <td>232.000000</td>\n      <td>9.000000</td>\n      <td>314.0</td>\n      <td>4.0</td>\n    </tr>\n    <tr>\n      <th>75%</th>\n      <td>15.000000</td>\n      <td>1.000000</td>\n      <td>19.000000</td>\n      <td>409.000000</td>\n      <td>16.000000</td>\n      <td>314.0</td>\n      <td>4.0</td>\n    </tr>\n    <tr>\n      <th>max</th>\n      <td>435.000000</td>\n      <td>2865.000000</td>\n      <td>287.000000</td>\n      <td>497.000000</td>\n      <td>437.000000</td>\n      <td>314.0</td>\n      <td>4.0</td>\n    </tr>\n  </tbody>\n</table>\n</div>", 
                        "text/plain": "                 app         device             os        channel  \\\ncount  100000.000000  100000.000000  100000.000000  100000.000000   \nmean       11.833500       1.471380      18.411250     266.481270   \nstd        10.884984      22.279523      10.572121     136.471051   \nmin         0.000000       0.000000       0.000000       0.000000   \n25%         3.000000       1.000000      13.000000     137.000000   \n50%        12.000000       1.000000      18.000000     232.000000   \n75%        15.000000       1.000000      19.000000     409.000000   \nmax       435.000000    2865.000000     287.000000     497.000000   \n\n        clicks_by_ip       doy       hod  \ncount  100000.000000  100000.0  100000.0  \nmean       20.381980     314.0       4.0  \nstd        50.103823       0.0       0.0  \nmin         1.000000     314.0       4.0  \n25%         5.000000     314.0       4.0  \n50%         9.000000     314.0       4.0  \n75%        16.000000     314.0       4.0  \nmax       437.000000     314.0       4.0  "
                    }, 
                    "output_type": "execute_result"
                }
            ], 
            "source": "test.describe()"
        }, 
        {
            "execution_count": 40, 
            "cell_type": "code", 
            "metadata": {}, 
            "outputs": [], 
            "source": "# The code was removed by DSX for sharing."
        }, 
        {
            "execution_count": 41, 
            "cell_type": "code", 
            "metadata": {}, 
            "outputs": [], 
            "source": "#headers = urllib3.util.make_headers(basic_auth='{}:{}'.format(username, password))\n#url = '{}/v3/identity/token'.format(service_path)\n#response = requests.get(url, headers=headers)"
        }, 
        {
            "execution_count": 42, 
            "cell_type": "code", 
            "metadata": {}, 
            "outputs": [
                {
                    "output_type": "stream", 
                    "name": "stdout", 
                    "text": "Collecting watson-machine-learning-client\n  Downloading https://files.pythonhosted.org/packages/61/e3/4e69b0fb3df486465c0a7a246d7eafaff7de75a7001213e3c79b48155462/watson_machine_learning_client-1.0.178-py3-none-any.whl (615kB)\n\u001b[K    100% |\u2588\u2588\u2588\u2588\u2588\u2588\u2588\u2588\u2588\u2588\u2588\u2588\u2588\u2588\u2588\u2588\u2588\u2588\u2588\u2588\u2588\u2588\u2588\u2588\u2588\u2588\u2588\u2588\u2588\u2588\u2588\u2588| 624kB 1.5MB/s eta 0:00:01\n\u001b[?25hRequirement not upgraded as not directly required: certifi in /opt/conda/envs/DSX-Python35/lib/python3.5/site-packages (from watson-machine-learning-client)\nRequirement not upgraded as not directly required: tqdm in /opt/conda/envs/DSX-Python35/lib/python3.5/site-packages (from watson-machine-learning-client)\nRequirement not upgraded as not directly required: urllib3 in /opt/conda/envs/DSX-Python35/lib/python3.5/site-packages (from watson-machine-learning-client)\nRequirement not upgraded as not directly required: tabulate in /opt/conda/envs/DSX-Python35/lib/python3.5/site-packages (from watson-machine-learning-client)\nRequirement not upgraded as not directly required: lomond in /opt/conda/envs/DSX-Python35/lib/python3.5/site-packages (from watson-machine-learning-client)\nRequirement not upgraded as not directly required: ibm-cos-sdk in /opt/conda/envs/DSX-Python35/lib/python3.5/site-packages (from watson-machine-learning-client)\nRequirement not upgraded as not directly required: requests in /opt/conda/envs/DSX-Python35/lib/python3.5/site-packages (from watson-machine-learning-client)\nRequirement not upgraded as not directly required: pandas in /opt/conda/envs/DSX-Python35/lib/python3.5/site-packages (from watson-machine-learning-client)\nRequirement not upgraded as not directly required: six>=1.10.0 in /opt/conda/envs/DSX-Python35/lib/python3.5/site-packages (from lomond->watson-machine-learning-client)\nRequirement not upgraded as not directly required: ibm-cos-sdk-s3transfer==2.*,>=2.0.0 in /opt/conda/envs/DSX-Python35/lib/python3.5/site-packages (from ibm-cos-sdk->watson-machine-learning-client)\nRequirement not upgraded as not directly required: ibm-cos-sdk-core==2.*,>=2.0.0 in /opt/conda/envs/DSX-Python35/lib/python3.5/site-packages (from ibm-cos-sdk->watson-machine-learning-client)\nRequirement not upgraded as not directly required: chardet<3.1.0,>=3.0.2 in /opt/conda/envs/DSX-Python35/lib/python3.5/site-packages (from requests->watson-machine-learning-client)\nRequirement not upgraded as not directly required: idna<2.7,>=2.5 in /opt/conda/envs/DSX-Python35/lib/python3.5/site-packages (from requests->watson-machine-learning-client)\nRequirement not upgraded as not directly required: python-dateutil>=2 in /opt/conda/envs/DSX-Python35/lib/python3.5/site-packages (from pandas->watson-machine-learning-client)\nRequirement not upgraded as not directly required: pytz>=2011k in /opt/conda/envs/DSX-Python35/lib/python3.5/site-packages (from pandas->watson-machine-learning-client)\nRequirement not upgraded as not directly required: numpy>=1.9.0 in /opt/conda/envs/DSX-Python35/lib/python3.5/site-packages (from pandas->watson-machine-learning-client)\nRequirement not upgraded as not directly required: jmespath<1.0.0,>=0.7.1 in /opt/conda/envs/DSX-Python35/lib/python3.5/site-packages (from ibm-cos-sdk-core==2.*,>=2.0.0->ibm-cos-sdk->watson-machine-learning-client)\nRequirement not upgraded as not directly required: docutils>=0.10 in /opt/conda/envs/DSX-Python35/lib/python3.5/site-packages (from ibm-cos-sdk-core==2.*,>=2.0.0->ibm-cos-sdk->watson-machine-learning-client)\nInstalling collected packages: watson-machine-learning-client\n  Found existing installation: watson-machine-learning-client 1.0.159\n    Uninstalling watson-machine-learning-client-1.0.159:\n      Successfully uninstalled watson-machine-learning-client-1.0.159\nSuccessfully installed watson-machine-learning-client-1.0.178\n"
                }
            ], 
            "source": "!pip install watson-machine-learning-client --upgrade\nfrom watson_machine_learning_client import WatsonMachineLearningAPIClient"
        }, 
        {
            "execution_count": 43, 
            "cell_type": "code", 
            "metadata": {}, 
            "outputs": [], 
            "source": "# The code was removed by DSX for sharing."
        }, 
        {
            "execution_count": null, 
            "cell_type": "code", 
            "metadata": {}, 
            "outputs": [], 
            "source": "client = WatsonMachineLearningAPIClient(wml_credentials)\nmodel_props = {client.repository.ModelMetaNames.NAME: \"XGBoost model for AdTracking\"}\nmodel_details = client.repository.store_model(model, model_props)\nclient.repository.ModelMetaNames.show() "
        }, 
        {
            "execution_count": null, 
            "cell_type": "code", 
            "metadata": {}, 
            "outputs": [], 
            "source": "model_uid = client.repository.get_model_uid(model_details)\ndeployment_details = client.deployments.create(model_uid, \"AdTracking prediction\")\nclient.deployments.list()"
        }, 
        {
            "source": "### 6.2 Test d'appel du service REST", 
            "cell_type": "markdown", 
            "metadata": {}
        }, 
        {
            "execution_count": null, 
            "cell_type": "code", 
            "metadata": {}, 
            "outputs": [], 
            "source": "scoring_url = client.deployments.get_scoring_url(deployment_details)\ninput = test.iloc(0)[0]\n#payload_scoring = {\"values\": input.iloc(0)[0].tolist() }\npayload_scoring = {\"values\": [ input.tolist()] }\nprint(payload_scoring)"
        }, 
        {
            "execution_count": null, 
            "cell_type": "code", 
            "metadata": {}, 
            "outputs": [], 
            "source": "# Perform prediction and display the result.\nresponse_scoring = client.deployments.score(scoring_url, payload_scoring)\nprint(response_scoring)"
        }
    ], 
    "metadata": {
        "kernelspec": {
            "display_name": "Python 3.5", 
            "name": "python3", 
            "language": "python"
        }, 
        "language_info": {
            "mimetype": "text/x-python", 
            "nbconvert_exporter": "python", 
            "version": "3.5.4", 
            "name": "python", 
            "file_extension": ".py", 
            "pygments_lexer": "ipython3", 
            "codemirror_mode": {
                "version": 3, 
                "name": "ipython"
            }
        }, 
        "anaconda-cloud": {}
    }, 
    "nbformat": 4
}