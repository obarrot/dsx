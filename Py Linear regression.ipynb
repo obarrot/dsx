{
    "metadata": {
        "language_info": {
            "file_extension": ".py", 
            "mimetype": "text/x-python", 
            "version": "2.7.11", 
            "pygments_lexer": "ipython2", 
            "name": "python", 
            "codemirror_mode": {
                "version": 2, 
                "name": "ipython"
            }, 
            "nbconvert_exporter": "python"
        }, 
        "kernelspec": {
            "display_name": "Python 2 with Spark 2.0", 
            "language": "python", 
            "name": "python2-spark20"
        }
    }, 
    "cells": [
        {
            "metadata": {
                "scrolled": false, 
                "collapsed": false
            }, 
            "cell_type": "code", 
            "outputs": [], 
            "execution_count": 2, 
            "source": "import numpy as np\nimport pandas as pd\nimport matplotlib.pyplot as plt\n%matplotlib inline"
        }, 
        {
            "metadata": {
                "scrolled": false, 
                "collapsed": false
            }, 
            "cell_type": "code", 
            "outputs": [], 
            "execution_count": 3, 
            "source": "# The code was removed by DSX for sharing."
        }, 
        {
            "metadata": {
                "scrolled": false, 
                "collapsed": true
            }, 
            "cell_type": "code", 
            "outputs": [], 
            "execution_count": 4, 
            "source": "# The code was removed by DSX for sharing."
        }, 
        {
            "metadata": {
                "scrolled": false, 
                "collapsed": true
            }, 
            "cell_type": "code", 
            "outputs": [], 
            "execution_count": 5, 
            "source": "# The code was removed by DSX for sharing."
        }, 
        {
            "metadata": {
                "scrolled": false, 
                "collapsed": false
            }, 
            "cell_type": "code", 
            "outputs": [
                {
                    "metadata": {}, 
                    "execution_count": 6, 
                    "data": {
                        "text/plain": "   Population   Profit\n0      6.1101  17.5920\n1      5.5277   9.1302\n2      8.5186  13.6620\n3      7.0032  11.8540\n4      5.8598   6.8233", 
                        "text/html": "<div>\n<table border=\"1\" class=\"dataframe\">\n  <thead>\n    <tr style=\"text-align: right;\">\n      <th></th>\n      <th>Population</th>\n      <th>Profit</th>\n    </tr>\n  </thead>\n  <tbody>\n    <tr>\n      <th>0</th>\n      <td>6.1101</td>\n      <td>17.5920</td>\n    </tr>\n    <tr>\n      <th>1</th>\n      <td>5.5277</td>\n      <td>9.1302</td>\n    </tr>\n    <tr>\n      <th>2</th>\n      <td>8.5186</td>\n      <td>13.6620</td>\n    </tr>\n    <tr>\n      <th>3</th>\n      <td>7.0032</td>\n      <td>11.8540</td>\n    </tr>\n    <tr>\n      <th>4</th>\n      <td>5.8598</td>\n      <td>6.8233</td>\n    </tr>\n  </tbody>\n</table>\n</div>"
                    }, 
                    "output_type": "execute_result"
                }
            ], 
            "execution_count": 6, 
            "source": "import os\n\n#path = os.getcwd() + '\\data\\ex1data1.txt'\npath=data_1\ndata = pd.read_csv(path, header=None, names=['Population', 'Profit'])\ndata.head()\n"
        }, 
        {
            "metadata": {
                "scrolled": false, 
                "collapsed": false
            }, 
            "cell_type": "code", 
            "outputs": [
                {
                    "metadata": {}, 
                    "execution_count": 7, 
                    "data": {
                        "text/plain": "       Population     Profit\ncount   97.000000  97.000000\nmean     8.159800   5.839135\nstd      3.869884   5.510262\nmin      5.026900  -2.680700\n25%      5.707700   1.986900\n50%      6.589400   4.562300\n75%      8.578100   7.046700\nmax     22.203000  24.147000", 
                        "text/html": "<div>\n<table border=\"1\" class=\"dataframe\">\n  <thead>\n    <tr style=\"text-align: right;\">\n      <th></th>\n      <th>Population</th>\n      <th>Profit</th>\n    </tr>\n  </thead>\n  <tbody>\n    <tr>\n      <th>count</th>\n      <td>97.000000</td>\n      <td>97.000000</td>\n    </tr>\n    <tr>\n      <th>mean</th>\n      <td>8.159800</td>\n      <td>5.839135</td>\n    </tr>\n    <tr>\n      <th>std</th>\n      <td>3.869884</td>\n      <td>5.510262</td>\n    </tr>\n    <tr>\n      <th>min</th>\n      <td>5.026900</td>\n      <td>-2.680700</td>\n    </tr>\n    <tr>\n      <th>25%</th>\n      <td>5.707700</td>\n      <td>1.986900</td>\n    </tr>\n    <tr>\n      <th>50%</th>\n      <td>6.589400</td>\n      <td>4.562300</td>\n    </tr>\n    <tr>\n      <th>75%</th>\n      <td>8.578100</td>\n      <td>7.046700</td>\n    </tr>\n    <tr>\n      <th>max</th>\n      <td>22.203000</td>\n      <td>24.147000</td>\n    </tr>\n  </tbody>\n</table>\n</div>"
                    }, 
                    "output_type": "execute_result"
                }
            ], 
            "execution_count": 7, 
            "source": "data.describe()\n# print \"Total records in the dataset:\", data.count()"
        }, 
        {
            "metadata": {
                "scrolled": false, 
                "collapsed": false
            }, 
            "cell_type": "code", 
            "outputs": [
                {
                    "metadata": {}, 
                    "execution_count": 8, 
                    "data": {
                        "text/plain": "<matplotlib.axes._subplots.AxesSubplot at 0x7f04ca7f53d0>"
                    }, 
                    "output_type": "execute_result"
                }, 
                {
                    "metadata": {}, 
                    "data": {
                        "text/plain": "<matplotlib.figure.Figure at 0x7f04caaa4a90>", 
                        "image/png": "[encoded data removed]"
                    }, 
                    "output_type": "display_data"
                }
            ], 
            "execution_count": 8, 
            "source": "data.plot(kind='scatter', x='Population', y='Profit', figsize=(12,8))"
        }, 
        {
            "metadata": {
                "scrolled": false, 
                "collapsed": false
            }, 
            "cell_type": "code", 
            "outputs": [], 
            "execution_count": 9, 
            "source": "def computeCost(X, y, theta):\n    inner = np.power(((X * theta.T) - y), 2)\n    return np.sum(inner) / (2 * len(X))"
        }, 
        {
            "metadata": {
                "collapsed": false
            }, 
            "cell_type": "code", 
            "outputs": [
                {
                    "metadata": {}, 
                    "execution_count": 12, 
                    "data": {
                        "text/plain": "   Ones  Population   Profit\n0     1      6.1101  17.5920\n1     1      5.5277   9.1302\n2     1      8.5186  13.6620\n3     1      7.0032  11.8540\n4     1      5.8598   6.8233", 
                        "text/html": "<div>\n<table border=\"1\" class=\"dataframe\">\n  <thead>\n    <tr style=\"text-align: right;\">\n      <th></th>\n      <th>Ones</th>\n      <th>Population</th>\n      <th>Profit</th>\n    </tr>\n  </thead>\n  <tbody>\n    <tr>\n      <th>0</th>\n      <td>1</td>\n      <td>6.1101</td>\n      <td>17.5920</td>\n    </tr>\n    <tr>\n      <th>1</th>\n      <td>1</td>\n      <td>5.5277</td>\n      <td>9.1302</td>\n    </tr>\n    <tr>\n      <th>2</th>\n      <td>1</td>\n      <td>8.5186</td>\n      <td>13.6620</td>\n    </tr>\n    <tr>\n      <th>3</th>\n      <td>1</td>\n      <td>7.0032</td>\n      <td>11.8540</td>\n    </tr>\n    <tr>\n      <th>4</th>\n      <td>1</td>\n      <td>5.8598</td>\n      <td>6.8233</td>\n    </tr>\n  </tbody>\n</table>\n</div>"
                    }, 
                    "output_type": "execute_result"
                }
            ], 
            "execution_count": 12, 
            "source": "data.insert(0, 'Ones', 1)"
        }, 
        {
            "metadata": {
                "collapsed": false
            }, 
            "cell_type": "code", 
            "outputs": [
                {
                    "metadata": {}, 
                    "execution_count": 13, 
                    "data": {
                        "text/plain": "    Profit\n0  17.5920\n1   9.1302\n2  13.6620\n3  11.8540\n4   6.8233", 
                        "text/html": "<div>\n<table border=\"1\" class=\"dataframe\">\n  <thead>\n    <tr style=\"text-align: right;\">\n      <th></th>\n      <th>Profit</th>\n    </tr>\n  </thead>\n  <tbody>\n    <tr>\n      <th>0</th>\n      <td>17.5920</td>\n    </tr>\n    <tr>\n      <th>1</th>\n      <td>9.1302</td>\n    </tr>\n    <tr>\n      <th>2</th>\n      <td>13.6620</td>\n    </tr>\n    <tr>\n      <th>3</th>\n      <td>11.8540</td>\n    </tr>\n    <tr>\n      <th>4</th>\n      <td>6.8233</td>\n    </tr>\n  </tbody>\n</table>\n</div>"
                    }, 
                    "output_type": "execute_result"
                }
            ], 
            "execution_count": 13, 
            "source": "# set X (training data) and y (target variable)\ncols = data.shape[1]\nx = data.iloc[:,0:cols-1]\ny = data.iloc[:,cols-1:cols]\nx.head()\ny.head()"
        }, 
        {
            "metadata": {
                "collapsed": false
            }, 
            "cell_type": "code", 
            "outputs": [], 
            "execution_count": 15, 
            "source": "x = np.matrix(x.values)\ny = np.matrix(y.values)\ntheta = np.matrix(np.array([0,0]))"
        }, 
        {
            "metadata": {
                "collapsed": false
            }, 
            "cell_type": "code", 
            "outputs": [
                {
                    "metadata": {}, 
                    "execution_count": 16, 
                    "data": {
                        "text/plain": "32.072733877455676"
                    }, 
                    "output_type": "execute_result"
                }
            ], 
            "execution_count": 16, 
            "source": "computeCost(x, y, theta)"
        }, 
        {
            "metadata": {
                "collapsed": true
            }, 
            "cell_type": "code", 
            "outputs": [], 
            "execution_count": 17, 
            "source": "def gradientDescent(X, y, theta, alpha, iters):\n    temp = np.matrix(np.zeros(theta.shape))\n    parameters = int(theta.ravel().shape[1])\n    cost = np.zeros(iters)\n    \n    for i in range(iters):\n        error = (X * theta.T) - y\n        \n        for j in range(parameters):\n            term = np.multiply(error, X[:,j])\n            temp[0,j] = theta[0,j] - ((alpha / len(X)) * np.sum(term))\n            \n        theta = temp\n        cost[i] = computeCost(X, y, theta)\n        \n    return theta, cost"
        }, 
        {
            "metadata": {
                "collapsed": false
            }, 
            "cell_type": "code", 
            "outputs": [
                {
                    "metadata": {}, 
                    "execution_count": 18, 
                    "data": {
                        "text/plain": "matrix([[-3.24140214,  1.1272942 ]])"
                    }, 
                    "output_type": "execute_result"
                }
            ], 
            "execution_count": 18, 
            "source": "alpha = 0.01\niters = 1000\ng, cost = gradientDescent(x, y, theta, alpha, iters)\ng"
        }, 
        {
            "metadata": {
                "collapsed": false
            }, 
            "cell_type": "code", 
            "outputs": [
                {
                    "metadata": {}, 
                    "execution_count": 19, 
                    "data": {
                        "text/plain": "4.5159555030789118"
                    }, 
                    "output_type": "execute_result"
                }
            ], 
            "execution_count": 19, 
            "source": "computeCost(x, y, g)"
        }, 
        {
            "metadata": {
                "collapsed": false
            }, 
            "cell_type": "code", 
            "outputs": [
                {
                    "metadata": {}, 
                    "execution_count": 20, 
                    "data": {
                        "text/plain": "<matplotlib.text.Text at 0x7f04ca2fee10>"
                    }, 
                    "output_type": "execute_result"
                }, 
                {
                    "metadata": {}, 
                    "data": {
                        "text/plain": "<matplotlib.figure.Figure at 0x7f04ca354990>", 
                        "image/png": "[encoded data removed]"
                    }, 
                    "output_type": "display_data"
                }
            ], 
            "execution_count": 20, 
            "source": "x = np.linspace(data.Population.min(), data.Population.max(), 100)\nf = g[0, 0] + (g[0, 1] * x)\n\nfig, ax = plt.subplots(figsize=(12,8))\nax.plot(x, f, 'r', label='Prediction')\nax.scatter(data.Population, data.Profit, label='Traning Data')\nax.legend(loc=2)\nax.set_xlabel('Population')\nax.set_ylabel('Profit')\nax.set_title('Predicted Profit vs. Population Size')"
        }, 
        {
            "metadata": {
                "collapsed": true
            }, 
            "cell_type": "code", 
            "outputs": [], 
            "execution_count": null, 
            "source": ""
        }
    ], 
    "nbformat": 4, 
    "nbformat_minor": 0
}