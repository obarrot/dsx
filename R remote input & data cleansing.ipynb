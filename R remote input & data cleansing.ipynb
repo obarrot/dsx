{
    "nbformat_minor": 0, 
    "nbformat": 4, 
    "cells": [
        {
            "source": "# The code was removed by DSX for sharing.", 
            "execution_count": 1, 
            "metadata": {
                "collapsed": true
            }, 
            "cell_type": "code", 
            "outputs": []
        }, 
        {
            "source": "if (! require(devtools))\n    {\n    install.packages('devtools')\n    library('devtools')\n    }\ninstall_github('IBMDataScience/objectStoreR')\nlibrary ('objectStoreR')", 
            "execution_count": 2, 
            "metadata": {
                "collapsed": false
            }, 
            "cell_type": "code", 
            "outputs": [
                {
                    "name": "stderr", 
                    "text": "Loading required package: devtools\nSkipping install of 'objectStoreR' from a github remote, the SHA1 (d6a07c5b) has not changed since last install.\n  Use `force = TRUE` to force installation\n", 
                    "output_type": "stream"
                }
            ]
        }, 
        {
            "source": "fileURL <- \"https://spark-public.s3.amazonaws.com/dataanalysis/loansData.csv?accessType=DOWNLOAD\"\ncat (\"file URL:\" , fileURL, \"\\n\")\ndownload.file(fileURL,destfile=\"./loansData.csv\",mode=\"w\")\nloanDataRaw <- read.csv(\"./loansData.csv\",as.is=TRUE)", 
            "execution_count": 3, 
            "metadata": {
                "collapsed": false
            }, 
            "cell_type": "code", 
            "outputs": [
                {
                    "name": "stdout", 
                    "text": "file URL: https://spark-public.s3.amazonaws.com/dataanalysis/loansData.csv?accessType=DOWNLOAD \n", 
                    "output_type": "stream"
                }
            ]
        }, 
        {
            "source": "cat(\"taille du fichier import\u00e9: \", dim(loanDataRaw), \"\\n\")\nstr (loanDataRaw)\nwrite.csv(loanDataRaw,file=\"loansData.csv\")\nstatus <- objectStore.put(credentials_1,\"loansData.csv\")\nstatus", 
            "execution_count": 4, 
            "metadata": {
                "collapsed": false
            }, 
            "cell_type": "code", 
            "outputs": [
                {
                    "name": "stdout", 
                    "text": "taille du fichier import\u00e9:  2500 14 \n'data.frame':\t2500 obs. of  14 variables:\n $ Amount.Requested              : int  20000 19200 35000 10000 12000 6000 10000 33500 14675 7000 ...\n $ Amount.Funded.By.Investors    : num  20000 19200 35000 9975 12000 ...\n $ Interest.Rate                 : chr  \"8.90%\" \"12.12%\" \"21.98%\" \"9.99%\" ...\n $ Loan.Length                   : chr  \"36 months\" \"36 months\" \"60 months\" \"36 months\" ...\n $ Loan.Purpose                  : chr  \"debt_consolidation\" \"debt_consolidation\" \"debt_consolidation\" \"debt_consolidation\" ...\n $ Debt.To.Income.Ratio          : chr  \"14.90%\" \"28.36%\" \"23.81%\" \"14.30%\" ...\n $ State                         : chr  \"SC\" \"TX\" \"CA\" \"KS\" ...\n $ Home.Ownership                : chr  \"MORTGAGE\" \"MORTGAGE\" \"MORTGAGE\" \"MORTGAGE\" ...\n $ Monthly.Income                : num  6542 4583 11500 3833 3195 ...\n $ FICO.Range                    : chr  \"735-739\" \"715-719\" \"690-694\" \"695-699\" ...\n $ Open.CREDIT.Lines             : int  14 12 14 10 11 17 10 12 9 8 ...\n $ Revolving.CREDIT.Balance      : int  14272 11140 21977 9346 14469 10391 15957 27874 7246 7612 ...\n $ Inquiries.in.the.Last.6.Months: int  2 1 1 0 0 2 0 0 1 0 ...\n $ Employment.Length             : chr  \"< 1 year\" \"2 years\" \"2 years\" \"5 years\" ...\n\n", 
                    "output_type": "stream"
                }, 
                {
                    "data": {
                        "text/html": "201", 
                        "text/latex": "201", 
                        "text/markdown": "201", 
                        "text/plain": "[1] 201"
                    }, 
                    "metadata": {}, 
                    "output_type": "display_data"
                }
            ]
        }, 
        {
            "source": "# nettoyage\ncolnames (loanDataRaw)[10] <- \"FICO.Score\"\nnames(loanDataRaw)\nloanDataRaw$Interest.Rate <- gsub(\"%\", \"\", as.character(loanDataRaw$Interest.Rate))\nloanDataRaw$Debt.To.Income.Ratio <- gsub(\"%\", \"\", as.character(loanDataRaw$Debt.To.Income.Ratio))\nstr(loanDataRaw)", 
            "execution_count": 5, 
            "metadata": {
                "collapsed": false
            }, 
            "cell_type": "code", 
            "outputs": [
                {
                    "data": {
                        "text/html": "<ol class=list-inline>\n\t<li>'Amount.Requested'</li>\n\t<li>'Amount.Funded.By.Investors'</li>\n\t<li>'Interest.Rate'</li>\n\t<li>'Loan.Length'</li>\n\t<li>'Loan.Purpose'</li>\n\t<li>'Debt.To.Income.Ratio'</li>\n\t<li>'State'</li>\n\t<li>'Home.Ownership'</li>\n\t<li>'Monthly.Income'</li>\n\t<li>'FICO.Score'</li>\n\t<li>'Open.CREDIT.Lines'</li>\n\t<li>'Revolving.CREDIT.Balance'</li>\n\t<li>'Inquiries.in.the.Last.6.Months'</li>\n\t<li>'Employment.Length'</li>\n</ol>\n", 
                        "text/latex": "\\begin{enumerate*}\n\\item 'Amount.Requested'\n\\item 'Amount.Funded.By.Investors'\n\\item 'Interest.Rate'\n\\item 'Loan.Length'\n\\item 'Loan.Purpose'\n\\item 'Debt.To.Income.Ratio'\n\\item 'State'\n\\item 'Home.Ownership'\n\\item 'Monthly.Income'\n\\item 'FICO.Score'\n\\item 'Open.CREDIT.Lines'\n\\item 'Revolving.CREDIT.Balance'\n\\item 'Inquiries.in.the.Last.6.Months'\n\\item 'Employment.Length'\n\\end{enumerate*}\n", 
                        "text/markdown": "1. 'Amount.Requested'\n2. 'Amount.Funded.By.Investors'\n3. 'Interest.Rate'\n4. 'Loan.Length'\n5. 'Loan.Purpose'\n6. 'Debt.To.Income.Ratio'\n7. 'State'\n8. 'Home.Ownership'\n9. 'Monthly.Income'\n10. 'FICO.Score'\n11. 'Open.CREDIT.Lines'\n12. 'Revolving.CREDIT.Balance'\n13. 'Inquiries.in.the.Last.6.Months'\n14. 'Employment.Length'\n\n\n", 
                        "text/plain": " [1] \"Amount.Requested\"               \"Amount.Funded.By.Investors\"    \n [3] \"Interest.Rate\"                  \"Loan.Length\"                   \n [5] \"Loan.Purpose\"                   \"Debt.To.Income.Ratio\"          \n [7] \"State\"                          \"Home.Ownership\"                \n [9] \"Monthly.Income\"                 \"FICO.Score\"                    \n[11] \"Open.CREDIT.Lines\"              \"Revolving.CREDIT.Balance\"      \n[13] \"Inquiries.in.the.Last.6.Months\" \"Employment.Length\"             "
                    }, 
                    "metadata": {}, 
                    "output_type": "display_data"
                }, 
                {
                    "name": "stdout", 
                    "text": "'data.frame':\t2500 obs. of  14 variables:\n $ Amount.Requested              : int  20000 19200 35000 10000 12000 6000 10000 33500 14675 7000 ...\n $ Amount.Funded.By.Investors    : num  20000 19200 35000 9975 12000 ...\n $ Interest.Rate                 : chr  \"8.90\" \"12.12\" \"21.98\" \"9.99\" ...\n $ Loan.Length                   : chr  \"36 months\" \"36 months\" \"60 months\" \"36 months\" ...\n $ Loan.Purpose                  : chr  \"debt_consolidation\" \"debt_consolidation\" \"debt_consolidation\" \"debt_consolidation\" ...\n $ Debt.To.Income.Ratio          : chr  \"14.90\" \"28.36\" \"23.81\" \"14.30\" ...\n $ State                         : chr  \"SC\" \"TX\" \"CA\" \"KS\" ...\n $ Home.Ownership                : chr  \"MORTGAGE\" \"MORTGAGE\" \"MORTGAGE\" \"MORTGAGE\" ...\n $ Monthly.Income                : num  6542 4583 11500 3833 3195 ...\n $ FICO.Score                    : chr  \"735-739\" \"715-719\" \"690-694\" \"695-699\" ...\n $ Open.CREDIT.Lines             : int  14 12 14 10 11 17 10 12 9 8 ...\n $ Revolving.CREDIT.Balance      : int  14272 11140 21977 9346 14469 10391 15957 27874 7246 7612 ...\n $ Inquiries.in.the.Last.6.Months: int  2 1 1 0 0 2 0 0 1 0 ...\n $ Employment.Length             : chr  \"< 1 year\" \"2 years\" \"2 years\" \"5 years\" ...\n", 
                    "output_type": "stream"
                }
            ]
        }, 
        {
            "source": "# split du score FICO sur 2 colonnes dans une nouvelle var\nficoSplitScore <- data.frame(do.call(rbind,strsplit(as.vector(loanDataRaw$FICO.Score),split='-')))\n# transformation en numeric\nnames(ficoSplitScore) <- c(\"FICO.Low\",\"FICO.High\")\nficoSplitScore$FICO.Low <- as.numeric(levels(ficoSplitScore$FICO.Low))[ficoSplitScore$FICO.Low]\nficoSplitScore$FICO.High <- as.numeric(levels(ficoSplitScore$FICO.High))[ficoSplitScore$FICO.High]\n# str (ficoSplitScore)", 
            "execution_count": 6, 
            "metadata": {
                "collapsed": false
            }, 
            "cell_type": "code", 
            "outputs": []
        }, 
        {
            "source": "# ajout de la nouvelle colonne retravaill\u00e9e", 
            "execution_count": 7, 
            "metadata": {
                "collapsed": false
            }, 
            "cell_type": "code", 
            "outputs": []
        }, 
        {
            "source": "loanDataRaw <- cbind(loanDataRaw,ficoSplitScore)\n# str(loanDataRaw)", 
            "execution_count": 8, 
            "metadata": {
                "collapsed": false
            }, 
            "cell_type": "code", 
            "outputs": []
        }, 
        {
            "source": "# calcul et ajout de la moyenne des 2 colonnes FICO\nficoAvgScore <- data.frame(rowMeans(ficoSplitScore, na.rm=TRUE))\nnames(ficoAvgScore) <- c(\"FICO.Avg\")\nloanDataRaw <- cbind(loanDataRaw,ficoAvgScore)\nstr(loanDataRaw)", 
            "execution_count": 9, 
            "metadata": {
                "collapsed": false
            }, 
            "cell_type": "code", 
            "outputs": [
                {
                    "name": "stdout", 
                    "text": "'data.frame':\t2500 obs. of  17 variables:\n $ Amount.Requested              : int  20000 19200 35000 10000 12000 6000 10000 33500 14675 7000 ...\n $ Amount.Funded.By.Investors    : num  20000 19200 35000 9975 12000 ...\n $ Interest.Rate                 : chr  \"8.90\" \"12.12\" \"21.98\" \"9.99\" ...\n $ Loan.Length                   : chr  \"36 months\" \"36 months\" \"60 months\" \"36 months\" ...\n $ Loan.Purpose                  : chr  \"debt_consolidation\" \"debt_consolidation\" \"debt_consolidation\" \"debt_consolidation\" ...\n $ Debt.To.Income.Ratio          : chr  \"14.90\" \"28.36\" \"23.81\" \"14.30\" ...\n $ State                         : chr  \"SC\" \"TX\" \"CA\" \"KS\" ...\n $ Home.Ownership                : chr  \"MORTGAGE\" \"MORTGAGE\" \"MORTGAGE\" \"MORTGAGE\" ...\n $ Monthly.Income                : num  6542 4583 11500 3833 3195 ...\n $ FICO.Score                    : chr  \"735-739\" \"715-719\" \"690-694\" \"695-699\" ...\n $ Open.CREDIT.Lines             : int  14 12 14 10 11 17 10 12 9 8 ...\n $ Revolving.CREDIT.Balance      : int  14272 11140 21977 9346 14469 10391 15957 27874 7246 7612 ...\n $ Inquiries.in.the.Last.6.Months: int  2 1 1 0 0 2 0 0 1 0 ...\n $ Employment.Length             : chr  \"< 1 year\" \"2 years\" \"2 years\" \"5 years\" ...\n $ FICO.Low                      : num  735 715 690 695 695 670 720 705 685 715 ...\n $ FICO.High                     : num  739 719 694 699 699 674 724 709 689 719 ...\n $ FICO.Avg                      : num  737 717 692 697 697 672 722 707 687 717 ...\n", 
                    "output_type": "stream"
                }
            ]
        }, 
        {
            "source": "# ecriture resultat\nloanDataFinal <- as.data.frame (loanDataRaw)\nwrite.csv(loanDataFinal, file=\"loanDataFinal.csv\")\nstatus <- objectStore.put(credentials_1,\"loanDataFinal.csv\")\nstatus", 
            "execution_count": 10, 
            "metadata": {
                "collapsed": false
            }, 
            "cell_type": "code", 
            "outputs": [
                {
                    "name": "stdout", 
                    "text": "\n", 
                    "output_type": "stream"
                }, 
                {
                    "data": {
                        "text/html": "201", 
                        "text/latex": "201", 
                        "text/markdown": "201", 
                        "text/plain": "[1] 201"
                    }, 
                    "metadata": {}, 
                    "output_type": "display_data"
                }
            ]
        }, 
        {
            "source": "", 
            "execution_count": null, 
            "metadata": {
                "collapsed": true
            }, 
            "cell_type": "code", 
            "outputs": []
        }
    ], 
    "metadata": {
        "kernelspec": {
            "name": "r-spark20", 
            "language": "R", 
            "display_name": "R with Spark 2.0"
        }, 
        "language_info": {
            "name": "R", 
            "pygments_lexer": "r", 
            "codemirror_mode": "r", 
            "mimetype": "text/x-r-source", 
            "file_extension": ".r", 
            "version": "3.3.2"
        }
    }
}