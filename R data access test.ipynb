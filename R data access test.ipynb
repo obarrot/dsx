{
    "nbformat": 4, 
    "metadata": {
        "language_info": {
            "name": "R", 
            "mimetype": "text/x-r-source", 
            "version": "3.3.2", 
            "codemirror_mode": "r", 
            "file_extension": ".r", 
            "pygments_lexer": "r"
        }, 
        "kernelspec": {
            "name": "r-spark20", 
            "display_name": "R with Spark 2.0", 
            "language": "R"
        }
    }, 
    "nbformat_minor": 0, 
    "cells": [
        {
            "outputs": [], 
            "metadata": {
                "collapsed": true
            }, 
            "source": "# The code was removed by DSX for sharing.", 
            "execution_count": 1, 
            "cell_type": "code"
        }, 
        {
            "outputs": [
                {
                    "name": "stderr", 
                    "output_type": "stream", 
                    "text": "Loading required package: httr\nLoading required package: RCurl\nLoading required package: bitops\n\nAttaching package: \u2018RCurl\u2019\n\nThe following object is masked from \u2018package:SparkR\u2019:\n\n    base64\n\n"
                }, 
                {
                    "data": {
                        "text/html": "<table>\n<thead><tr><th scope=col>X</th><th scope=col>Class</th><th scope=col>Sex</th><th scope=col>Age</th><th scope=col>Survived</th><th scope=col>Freq</th></tr></thead>\n<tbody>\n\t<tr><td>1     </td><td>1st   </td><td>Male  </td><td>Child </td><td>No    </td><td> 0    </td></tr>\n\t<tr><td>2     </td><td>2nd   </td><td>Male  </td><td>Child </td><td>No    </td><td> 0    </td></tr>\n\t<tr><td>3     </td><td>3rd   </td><td>Male  </td><td>Child </td><td>No    </td><td>35    </td></tr>\n\t<tr><td>4     </td><td>Crew  </td><td>Male  </td><td>Child </td><td>No    </td><td> 0    </td></tr>\n\t<tr><td>5     </td><td>1st   </td><td>Female</td><td>Child </td><td>No    </td><td> 0    </td></tr>\n\t<tr><td>6     </td><td>2nd   </td><td>Female</td><td>Child </td><td>No    </td><td> 0    </td></tr>\n</tbody>\n</table>\n", 
                        "text/plain": "  X Class Sex    Age   Survived Freq\n1 1 1st   Male   Child No        0  \n2 2 2nd   Male   Child No        0  \n3 3 3rd   Male   Child No       35  \n4 4 Crew  Male   Child No        0  \n5 5 1st   Female Child No        0  \n6 6 2nd   Female Child No        0  ", 
                        "text/latex": "\\begin{tabular}{r|llllll}\n X & Class & Sex & Age & Survived & Freq\\\\\n\\hline\n\t 1      & 1st    & Male   & Child  & No     &  0    \\\\\n\t 2      & 2nd    & Male   & Child  & No     &  0    \\\\\n\t 3      & 3rd    & Male   & Child  & No     & 35    \\\\\n\t 4      & Crew   & Male   & Child  & No     &  0    \\\\\n\t 5      & 1st    & Female & Child  & No     &  0    \\\\\n\t 6      & 2nd    & Female & Child  & No     &  0    \\\\\n\\end{tabular}\n"
                    }, 
                    "metadata": {}, 
                    "output_type": "display_data"
                }
            ], 
            "metadata": {
                "collapsed": false
            }, 
            "source": "# The code was removed by DSX for sharing.", 
            "execution_count": 3, 
            "cell_type": "code"
        }, 
        {
            "outputs": [
                {
                    "data": {
                        "text/html": "<table>\n<thead><tr><th scope=col>X</th><th scope=col>Class</th><th scope=col>Sex</th><th scope=col>Age</th><th scope=col>Survived</th><th scope=col>Freq</th></tr></thead>\n<tbody>\n\t<tr><td>1     </td><td>1st   </td><td>Male  </td><td>Child </td><td>No    </td><td> 0    </td></tr>\n\t<tr><td>2     </td><td>2nd   </td><td>Male  </td><td>Child </td><td>No    </td><td> 0    </td></tr>\n\t<tr><td>3     </td><td>3rd   </td><td>Male  </td><td>Child </td><td>No    </td><td>35    </td></tr>\n\t<tr><td>4     </td><td>Crew  </td><td>Male  </td><td>Child </td><td>No    </td><td> 0    </td></tr>\n\t<tr><td>5     </td><td>1st   </td><td>Female</td><td>Child </td><td>No    </td><td> 0    </td></tr>\n\t<tr><td>6     </td><td>2nd   </td><td>Female</td><td>Child </td><td>No    </td><td> 0    </td></tr>\n</tbody>\n</table>\n", 
                        "text/plain": "  X Class Sex    Age   Survived Freq\n1 1 1st   Male   Child No        0  \n2 2 2nd   Male   Child No        0  \n3 3 3rd   Male   Child No       35  \n4 4 Crew  Male   Child No        0  \n5 5 1st   Female Child No        0  \n6 6 2nd   Female Child No        0  ", 
                        "text/latex": "\\begin{tabular}{r|llllll}\n X & Class & Sex & Age & Survived & Freq\\\\\n\\hline\n\t 1      & 1st    & Male   & Child  & No     &  0    \\\\\n\t 2      & 2nd    & Male   & Child  & No     &  0    \\\\\n\t 3      & 3rd    & Male   & Child  & No     & 35    \\\\\n\t 4      & Crew   & Male   & Child  & No     &  0    \\\\\n\t 5      & 1st    & Female & Child  & No     &  0    \\\\\n\t 6      & 2nd    & Female & Child  & No     &  0    \\\\\n\\end{tabular}\n"
                    }, 
                    "metadata": {}, 
                    "output_type": "display_data"
                }
            ], 
            "metadata": {
                "collapsed": false
            }, 
            "source": "df.data.1 <-  read.csv(file = getObjectStorageFileWithCredentials_b96560a97b4d4f74a742d6be66f5abec(\"DataCleansing\", \"Titanic.csv\"))\nhead(df.data.1)\n\n", 
            "execution_count": 4, 
            "cell_type": "code"
        }, 
        {
            "outputs": [], 
            "metadata": {
                "collapsed": true
            }, 
            "source": "", 
            "execution_count": null, 
            "cell_type": "code"
        }
    ]
}